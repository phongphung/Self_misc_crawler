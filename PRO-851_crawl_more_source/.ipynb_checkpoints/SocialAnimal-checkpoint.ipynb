{
 "cells": [
  {
   "cell_type": "code",
   "execution_count": 1,
   "metadata": {
    "collapsed": true,
    "deletable": true,
    "editable": true
   },
   "outputs": [],
   "source": [
    "import pandas as pd\n",
    "\n",
    "ticker_list = pd.read_csv(\"./Ticker_export.csv\", sep = ',')\n",
    "ticker_list.fillna('', inplace=True)\n",
    "ticker_list.set_index('Ticker', inplace=True, append=False, drop=False)"
   ]
  },
  {
   "cell_type": "code",
   "execution_count": 2,
   "metadata": {
    "collapsed": true,
    "deletable": true,
    "editable": true
   },
   "outputs": [],
   "source": [
    "from pymongo import MongoClient\n",
    "import pymongo\n",
    "MONGO_HOST = 'localhost'\n",
    "MONGO_PORT = 27017\n",
    "MONGO_DB = 'PRO851'\n",
    "MONGO_COLLECTION = 'socialanimal'\n",
    "def mongo_connection(host, port, db, collection):\n",
    "    try:\n",
    "        conn = MongoClient(host, port)\n",
    "        return conn[db][collection]\n",
    "    except:\n",
    "        raise\n",
    "\n",
    "def mongo_logging(connection, content):\n",
    "    try:\n",
    "        connection.insert_one(content)\n",
    "    except:\n",
    "        raise\n",
    "\n",
    "conn = mongo_connection(MONGO_HOST,MONGO_PORT,MONGO_DB,MONGO_COLLECTION )"
   ]
  },
  {
   "cell_type": "code",
   "execution_count": 3,
   "metadata": {
    "collapsed": true,
    "deletable": true,
    "editable": true
   },
   "outputs": [],
   "source": [
    "from selenium import webdriver\n",
    "from selenium.webdriver.common.by import By\n",
    "from selenium.webdriver.support.ui import WebDriverWait\n",
    "from selenium.webdriver.support import expected_conditions as EC\n",
    "from selenium.webdriver.common.keys import Keys\n",
    "from selenium.webdriver.common.action_chains import ActionChains\n",
    "import time\n",
    "from IPython.display import clear_output\n",
    "from selenium.common.exceptions import NoSuchElementException\n",
    "from random import randint"
   ]
  },
  {
   "cell_type": "code",
   "execution_count": 4,
   "metadata": {
    "collapsed": false,
    "deletable": true,
    "editable": true
   },
   "outputs": [],
   "source": [
    "count = 0\n"
   ]
  },
  {
   "cell_type": "code",
   "execution_count": 5,
   "metadata": {
    "collapsed": false,
    "deletable": true,
    "editable": true,
    "scrolled": false
   },
   "outputs": [
    {
     "ename": "KeyboardInterrupt",
     "evalue": "",
     "output_type": "error",
     "traceback": [
      "\u001b[1;31m---------------------------------------------------------------------------\u001b[0m",
      "\u001b[1;31mKeyboardInterrupt\u001b[0m                         Traceback (most recent call last)",
      "\u001b[1;32m<ipython-input-5-5bea74091556>\u001b[0m in \u001b[0;36m<module>\u001b[1;34m()\u001b[0m\n\u001b[0;32m     37\u001b[0m         \u001b[1;32mtry\u001b[0m\u001b[1;33m:\u001b[0m\u001b[1;33m\u001b[0m\u001b[0m\n\u001b[0;32m     38\u001b[0m             \u001b[1;31m#Just sleep to load, check loading\u001b[0m\u001b[1;33m\u001b[0m\u001b[1;33m\u001b[0m\u001b[0m\n\u001b[1;32m---> 39\u001b[1;33m             \u001b[0mtime\u001b[0m\u001b[1;33m.\u001b[0m\u001b[0msleep\u001b[0m\u001b[1;33m(\u001b[0m\u001b[0mrandint\u001b[0m\u001b[1;33m(\u001b[0m\u001b[1;36m1\u001b[0m\u001b[1;33m,\u001b[0m\u001b[1;36m3\u001b[0m\u001b[1;33m)\u001b[0m\u001b[1;33m)\u001b[0m\u001b[1;33m\u001b[0m\u001b[0m\n\u001b[0m\u001b[0;32m     40\u001b[0m             \u001b[0mloading\u001b[0m \u001b[1;33m=\u001b[0m \u001b[0mdriver\u001b[0m\u001b[1;33m.\u001b[0m\u001b[0mfind_elements_by_id\u001b[0m\u001b[1;33m(\u001b[0m\u001b[1;34m'content-search-loader'\u001b[0m\u001b[1;33m)\u001b[0m\u001b[1;33m\u001b[0m\u001b[0m\n\u001b[0;32m     41\u001b[0m             \u001b[1;32mif\u001b[0m \u001b[0mlen\u001b[0m\u001b[1;33m(\u001b[0m\u001b[0mloading\u001b[0m\u001b[1;33m)\u001b[0m \u001b[1;33m>\u001b[0m \u001b[1;36m0\u001b[0m\u001b[1;33m:\u001b[0m\u001b[1;33m\u001b[0m\u001b[0m\n",
      "\u001b[1;31mKeyboardInterrupt\u001b[0m: "
     ]
    }
   ],
   "source": [
    "for i in ticker_list.loc['TATE':, :].index:\n",
    "    count += 1\n",
    "    if count==1:\n",
    "        driver = webdriver.Chrome()\n",
    "        driver.get('https://app.socialanimal.io/login')\n",
    "        email_field = driver.find_element_by_id('email')\n",
    "        email_field.send_keys('hoketer@gmail.com')\n",
    "        password_field = driver.find_element_by_id('password')\n",
    "        password_field.send_keys('connguoi')\n",
    "        login = driver.find_element_by_id('log_me_in')\n",
    "        login.click()\n",
    "    domain_list = []\n",
    "    search_field = driver.find_element_by_id('research-input-text')\n",
    "    search_field.clear()\n",
    "    search_field.send_keys(i)\n",
    "    \n",
    "    \n",
    "    #Search button sometimes throw back error as non clickable, maybe the page not rendered probably\n",
    "    time.sleep(randint(1,2))\n",
    "    driver.execute_script(\"window.scrollTo(0, 0)\")\n",
    "    try:\n",
    "        search = driver.find_element_by_id('research-input-btn')\n",
    "        search.click()\n",
    "    except:\n",
    "        search = driver.find_element_by_id('research-input-btn')\n",
    "        search.click()\n",
    "    \n",
    "    #Wait loading, check if total pages exists, if not, next ticker\n",
    "    time.sleep(randint(1,3))\n",
    "    try:\n",
    "        total_pages = int(driver.find_element_by_id('page-hilights').text.replace('Page 1 of ', ''))\n",
    "    except NoSuchElementException:\n",
    "        continue\n",
    "    if total_pages > 30: total_pages = 30\n",
    "    #In case total page exists, wrap contents\n",
    "    for j in range(total_pages - 1 if total_pages > 1 else 1):\n",
    "        try:\n",
    "            #Just sleep to load, check loading\n",
    "            time.sleep(randint(1,3))\n",
    "            loading = driver.find_elements_by_id('content-search-loader')\n",
    "            if len(loading) > 0:\n",
    "                continue\n",
    "                \n",
    "            domain = driver.find_elements_by_xpath('//span[starts-with(@class, \"search-result-domain\")]')\n",
    "            domain_list.extend(map(lambda x: x.text, domain))\n",
    "            \n",
    "            try:\n",
    "                driver.find_element_by_xpath('//a[@href=\"#page-'+ str(j + 2) +'\"]').click()\n",
    "            except NoSuchElementException:\n",
    "                continue #check page 2\n",
    "                \n",
    "            loading = driver.find_elements_by_id('content-search-loader')\n",
    "            if len(loading) > 0:\n",
    "                time.sleep(randint(3,4))\n",
    "        except NoSuchElementException:\n",
    "            raise #expect this wont happen\n",
    "    domain_list = list(set(domain_list))\n",
    "    time.sleep(randint(1,2))\n",
    "    mongo_logging(conn, {\"Ticker\" : i, \"News\": domain_list})\n",
    "    if count==100:\n",
    "        driver.close\n",
    "        count = 0\n",
    "        \n"
   ]
  }
 ],
 "metadata": {
  "kernelspec": {
   "display_name": "Python 2",
   "language": "python",
   "name": "python2"
  },
  "language_info": {
   "codemirror_mode": {
    "name": "ipython",
    "version": 2
   },
   "file_extension": ".py",
   "mimetype": "text/x-python",
   "name": "python",
   "nbconvert_exporter": "python",
   "pygments_lexer": "ipython2",
   "version": "2.7.13"
  }
 },
 "nbformat": 4,
 "nbformat_minor": 2
}
