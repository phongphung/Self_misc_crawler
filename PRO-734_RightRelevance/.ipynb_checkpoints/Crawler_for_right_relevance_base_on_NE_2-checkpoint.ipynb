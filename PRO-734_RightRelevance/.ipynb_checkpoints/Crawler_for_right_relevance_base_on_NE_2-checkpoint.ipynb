{
 "cells": [
  {
   "cell_type": "code",
   "execution_count": 1,
   "metadata": {
    "collapsed": true
   },
   "outputs": [],
   "source": [
    "import pandas as pd\n",
    "\n",
    "NE_list = pd.read_csv(\"./whatINeed.csv\", sep = ',')\n",
    "NE_list = NE_list.fillna('')"
   ]
  },
  {
   "cell_type": "code",
   "execution_count": 2,
   "metadata": {
    "collapsed": true
   },
   "outputs": [],
   "source": [
    "from pymongo import MongoClient\n",
    "import pymongo\n",
    "MONGO_HOST = 'localhost'\n",
    "MONGO_PORT = 27017\n",
    "MONGO_DB = 'PRO734'\n",
    "MONGO_COLLECTION = 'Twitter_name_result'\n",
    "MONGO_COLLECTION1 = 'News_result'\n",
    "def mongo_connection(host, port, db, collection):\n",
    "    try:\n",
    "        conn = MongoClient(host, port)\n",
    "        return conn[db][collection]\n",
    "    except:\n",
    "        raise\n",
    "\n",
    "def mongo_logging(connection, content):\n",
    "    try:\n",
    "        connection.insert_one(content)\n",
    "    except:\n",
    "        raise\n",
    "\n",
    "conn = mongo_connection(MONGO_HOST,MONGO_PORT,MONGO_DB,MONGO_COLLECTION )\n",
    "conn1 = mongo_connection(MONGO_HOST,MONGO_PORT,MONGO_DB,MONGO_COLLECTION1 )"
   ]
  },
  {
   "cell_type": "code",
   "execution_count": null,
   "metadata": {
    "collapsed": false
   },
   "outputs": [
    {
     "name": "stdout",
     "output_type": "stream",
     "text": [
      "Success Dragon Intl\n",
      "26896\n"
     ]
    }
   ],
   "source": [
    "from selenium import webdriver\n",
    "from selenium.webdriver.common.by import By\n",
    "from selenium.webdriver.support.ui import WebDriverWait\n",
    "from selenium.webdriver.support import expected_conditions as EC\n",
    "from selenium.webdriver.common.keys import Keys\n",
    "from selenium.webdriver.common.action_chains import ActionChains\n",
    "import time\n",
    "from IPython.display import clear_output\n",
    "count = 0\n",
    "for i in NE_list['name'][26896:40000].index:\n",
    "    try:\n",
    "        count += 1\n",
    "        if count == 1:\n",
    "            driver = webdriver.Chrome()\n",
    "            driver.get('http://www.rightrelevance.com')\n",
    "            driver.set_window_size(1400,1000)\n",
    "            #save main window\n",
    "            main_window_handle = None\n",
    "            while not main_window_handle:\n",
    "                main_window_handle = driver.current_window_handle\n",
    "            #login find\n",
    "            login_xpath = \"//a[text() = 'login']\"\n",
    "            login_button = driver.find_elements_by_xpath(login_xpath)\n",
    "            actions1 = ActionChains(driver)\n",
    "            for j in login_button:\n",
    "                actions1.click(j)\n",
    "            actions1.perform()\n",
    "            #click twitter login\n",
    "            twitter_login_xpath = \"//button[@class='btntwit']\"\n",
    "            twitter_button = driver.find_element_by_xpath(twitter_login_xpath)\n",
    "            actions2 = ActionChains(driver)\n",
    "            actions2.click(twitter_button)\n",
    "            actions2.perform()\n",
    "            signin_window_handle = None\n",
    "            #change to singin window\n",
    "            while not signin_window_handle:\n",
    "                for handle in driver.window_handles:\n",
    "                    if handle != main_window_handle:\n",
    "                        signin_window_handle = handle\n",
    "                        break\n",
    "            driver.switch_to.window(signin_window_handle)\n",
    "            time.sleep(2)\n",
    "            #input user, login\n",
    "            username_input = driver.find_element_by_id('username_or_email')\n",
    "            password_input = driver.find_element_by_id('password')\n",
    "            username_input.send_keys('phongifls@gmail.com')\n",
    "            password_input.send_keys('Kj2b32#?')\n",
    "            driver.find_element_by_id('allow').click()\n",
    "            #switch back\n",
    "            driver.switch_to.window(main_window_handle)\n",
    "        clear_output()\n",
    "        print str(NE_list['name'][i])\n",
    "        print i\n",
    "        driver.get('http://www.rightrelevance.com/search/articles?query={0}'.format(str(NE_list['name'][i])))\n",
    "        time.sleep(0.5)\n",
    "        litmit_wait = 0\n",
    "        while (len(driver.find_elements_by_xpath(\"//div[@class[starts-with(., 'loader-base')]]\"))!= 0) and (litmit_wait < 20):\n",
    "            litmit_wait+=1\n",
    "            time.sleep(0.5)\n",
    "        #scroll down, check end\n",
    "        lastHeight = driver.execute_script(\"return document.body.scrollHeight\")\n",
    "        a = 0\n",
    "        while a < 200:\n",
    "            a += 1\n",
    "            driver.execute_script(\"window.scrollTo(0, document.body.scrollHeight);\")\n",
    "            b = 0\n",
    "            while (len(driver.find_elements_by_xpath(\"//div[@class[starts-with(., 'loader-base')]]\"))!= 0) and (b < 20):\n",
    "                time.sleep(0.5)\n",
    "            newHeight = driver.execute_script(\"return document.body.scrollHeight\")\n",
    "            if (newHeight == lastHeight):\n",
    "                a = 0\n",
    "                break\n",
    "            lastHeight = newHeight\n",
    "\n",
    "        #click more button\n",
    "        more_button = driver.find_elements_by_xpath(\"//div[@class[starts-with(.,'more-less-tweets ng-scope')]]\")\n",
    "        actions3 = ActionChains(driver)\n",
    "        for k in more_button:\n",
    "            actions3.click(k)\n",
    "        actions3.perform()\n",
    "        #get names\n",
    "        twitter_names = driver.find_elements_by_xpath(\"//div[@class[starts-with(., 'handle pull-left ML5 ng-binding ng-isolate-scope')]]\")\n",
    "        article_source = driver.find_elements_by_xpath(\"//div[@class[starts-with(., 'source PN-SB pull-left ng-binding ng-scope')]]\")\n",
    "        def get_href_from_web_element(x):\n",
    "            b = x.text\n",
    "            return b\n",
    "\n",
    "        name_href = list(map(get_href_from_web_element, twitter_names))\n",
    "        name_href_final = list(set(name_href))\n",
    "        mongo_logging(conn, {'twitter_name': name_href_final, 'NE_ID' : int(NE_list['named_entity_id'][i])})\n",
    "\n",
    "        name_href1 = list(map(get_href_from_web_element, article_source))\n",
    "        name_href_final1 = list(set(name_href1))\n",
    "        mongo_logging(conn1, {'article_url': name_href_final1, 'NE_ID' : int(NE_list['named_entity_id'][i])})\n",
    "        if count == 300:\n",
    "            driver.quit()\n",
    "            count = 0\n",
    "    except:\n",
    "        driver.quit()\n",
    "        count = 0\n",
    "        continue"
   ]
  },
  {
   "cell_type": "code",
   "execution_count": 1,
   "metadata": {
    "collapsed": false
   },
   "outputs": [
    {
     "ename": "NameError",
     "evalue": "name 'i' is not defined",
     "output_type": "error",
     "traceback": [
      "\u001b[0;31m---------------------------------------------------------------------------\u001b[0m",
      "\u001b[0;31mNameError\u001b[0m                                 Traceback (most recent call last)",
      "\u001b[0;32m<ipython-input-1-7751e39bdb73>\u001b[0m in \u001b[0;36m<module>\u001b[0;34m()\u001b[0m\n\u001b[0;32m----> 1\u001b[0;31m \u001b[1;32mprint\u001b[0m \u001b[0mi\u001b[0m\u001b[1;33m\u001b[0m\u001b[0m\n\u001b[0m",
      "\u001b[0;31mNameError\u001b[0m: name 'i' is not defined"
     ]
    }
   ],
   "source": [
    "#i = 21411"
   ]
  }
 ],
 "metadata": {
  "kernelspec": {
   "display_name": "Python 2",
   "language": "python",
   "name": "python2"
  },
  "language_info": {
   "codemirror_mode": {
    "name": "ipython",
    "version": 2
   },
   "file_extension": ".py",
   "mimetype": "text/x-python",
   "name": "python",
   "nbconvert_exporter": "python",
   "pygments_lexer": "ipython2",
   "version": "2.7.13"
  }
 },
 "nbformat": 4,
 "nbformat_minor": 2
}
