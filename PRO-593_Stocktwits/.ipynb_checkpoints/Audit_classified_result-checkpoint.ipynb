{
 "cells": [
  {
   "cell_type": "code",
   "execution_count": 3,
   "metadata": {
    "collapsed": true
   },
   "outputs": [],
   "source": [
    "id_list = pd.read_csv(\"./result.csv\", encoding='utf-8', sep=',')"
   ]
  },
  {
   "cell_type": "code",
   "execution_count": 4,
   "metadata": {
    "collapsed": true
   },
   "outputs": [],
   "source": [
    "from psycopg2 import connect\n",
    "import pandas as pd\n",
    "import numpy as np\n",
    "import requests\n",
    "#import psycopg2\n",
    "import psycopg2 as db\n",
    "\n",
    "NE_DB = \"dbname='rest_in_peace' user='dbo' host='10.0.0.137' password='sentifi'\"\n",
    "PROFILE_DB = \"dbname='da0' user='dbw' host='da0.ssh.sentifi.com' password='sentifi.da0'\"\n",
    "\n",
    "def connect_postgres():\n",
    "    try:\n",
    "        conn = db.connect(PROFILE_DB)\n",
    "        print(\"Initialised Connection\")\n",
    "        return conn\n",
    "    except:\n",
    "        print \"I am unable to connect to the database\""
   ]
  },
  {
   "cell_type": "code",
   "execution_count": null,
   "metadata": {
    "collapsed": true
   },
   "outputs": [],
   "source": [
    "conn = connect_postgres()\n",
    "cur = conn.cursor()\n",
    "cur.execute(\"set statement_timeout to 30000000; select pg_sleep(2);\")\n",
    "id_list_1 = str(tuple(id_list))\n",
    "query = \"\"\"SELECT user_id, name, screen_name, po, cat, roles, avg_score_cr, location, \n",
    "           payload ->>\"\"\"\n",
    "cur.execute(query)\n",
    "temp = cur.fetchall()\n",
    "temp = map(list, temp)\n",
    "df = pd.DataFrame(temp)\n",
    "df.columns = ['named_entity_id', 'status', 'name', 'shortname', 'legalname']\n",
    "conn.close()"
   ]
  }
 ],
 "metadata": {
  "kernelspec": {
   "display_name": "Python 2",
   "language": "python",
   "name": "python2"
  },
  "language_info": {
   "codemirror_mode": {
    "name": "ipython",
    "version": 2
   },
   "file_extension": ".py",
   "mimetype": "text/x-python",
   "name": "python",
   "nbconvert_exporter": "python",
   "pygments_lexer": "ipython2",
   "version": "2.7.13"
  }
 },
 "nbformat": 4,
 "nbformat_minor": 2
}
