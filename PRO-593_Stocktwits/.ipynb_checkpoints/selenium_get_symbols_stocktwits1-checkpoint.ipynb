{
 "cells": [
  {
   "cell_type": "code",
   "execution_count": 2,
   "metadata": {
    "collapsed": true
   },
   "outputs": [],
   "source": [
    "import pandas as pd\n",
    "#ticker list\n",
    "ticker_list = pd.read_csv(\"./Ticker_export.csv\", encoding = 'utf-8', sep = ',')"
   ]
  },
  {
   "cell_type": "code",
   "execution_count": 3,
   "metadata": {
    "collapsed": true
   },
   "outputs": [],
   "source": [
    "from pymongo import MongoClient\n",
    "import pymongo\n",
    "MONGO_HOST = 'localhost'\n",
    "MONGO_PORT = 27017\n",
    "MONGO_DB = 'PRO596'\n",
    "MONGO_COLLECTION = 'result'\n",
    "\n",
    "def mongo_connection(host, port, db, collection):\n",
    "    try:\n",
    "        conn = MongoClient(host, port)\n",
    "        return conn[db][collection]\n",
    "    except:\n",
    "        raise\n",
    "\n",
    "def mongo_logging(connection, content):\n",
    "    try:\n",
    "        connection.insert_one(content)\n",
    "    except:\n",
    "        raise\n",
    "\n",
    "conn = mongo_connection(MONGO_HOST,MONGO_PORT,MONGO_DB,MONGO_COLLECTION )"
   ]
  },
  {
   "cell_type": "code",
   "execution_count": 4,
   "metadata": {
    "collapsed": false,
    "scrolled": false
   },
   "outputs": [],
   "source": [
    "import pandas as pd\n",
    "\n",
    "df = pd.DataFrame(list(conn.find()))"
   ]
  },
  {
   "cell_type": "code",
   "execution_count": 7,
   "metadata": {
    "collapsed": false
   },
   "outputs": [
    {
     "data": {
      "text/plain": [
       "5244        NDVLY\n",
       "5245        PIAIF\n",
       "5246        JXHGF\n",
       "5247          UTI\n",
       "5248         599A\n",
       "5249        SCHYY\n",
       "5250        SCHYF\n",
       "5251          KEI\n",
       "5252         KEIG\n",
       "5253        SUCEF\n",
       "5254          PTR\n",
       "5255           CT\n",
       "5256        CMLTu\n",
       "5257        CPAMF\n",
       "5258        CDEVF\n",
       "5259        CDEVY\n",
       "5260         CYDM\n",
       "5261          ANL\n",
       "5262          LHL\n",
       "5263          JHJ\n",
       "5264          SU2\n",
       "5265          M3T\n",
       "5266         GENS\n",
       "5267        GIGNY\n",
       "5268        RAMPF\n",
       "5269          5GG\n",
       "5270          GLP\n",
       "5271         GBTL\n",
       "5272        GBTZF\n",
       "5273         JCNC\n",
       "           ...   \n",
       "12871       HLTEF\n",
       "12872       HEGLF\n",
       "12873         H7K\n",
       "12874       HLGVF\n",
       "12875         HI9\n",
       "12876        H6Qy\n",
       "12877        HIMX\n",
       "12878       TELLF\n",
       "12879        TENA\n",
       "12880        TLSN\n",
       "12881        HIFS\n",
       "12882        HI8B\n",
       "12883         HIS\n",
       "12884        HISE\n",
       "12885       TMPHF\n",
       "12886        HITT\n",
       "12887        HKBT\n",
       "12888        ADIB\n",
       "12889        HMNF\n",
       "12890        HMSY\n",
       "12891       HOEJA\n",
       "12892       TNRSF\n",
       "12893         TPH\n",
       "12894       HCPHY\n",
       "12895        HLCM\n",
       "12896    EKTTITAB\n",
       "12897         HCY\n",
       "12898      HOLM-B\n",
       "12899        HOLX\n",
       "12900       HLFBF\n",
       "Name: Ticker, dtype: object"
      ]
     },
     "execution_count": 7,
     "metadata": {},
     "output_type": "execute_result"
    }
   ],
   "source": [
    "ticker_list['Ticker'][5244:12901]"
   ]
  },
  {
   "cell_type": "code",
   "execution_count": null,
   "metadata": {
    "collapsed": false
   },
   "outputs": [],
   "source": [
    "from selenium import webdriver\n",
    "from selenium.webdriver.common.keys import Keys\n",
    "import time\n",
    "from IPython.display import clear_output\n",
    "\n",
    "a = 0\n",
    "conn = mongo_connection(MONGO_HOST,MONGO_PORT,MONGO_DB,MONGO_COLLECTION )\n",
    "for i in ticker_list['Ticker'][5244:12901].index:\n",
    "    try:\n",
    "        a += 1\n",
    "        if a == 1:\n",
    "            driver = webdriver.Firefox()\n",
    "        clear_output()\n",
    "        print ticker_list['Ticker'][i]\n",
    "        my_link = \"https://stocktwits.com/symbol/%s\" %ticker_list['Ticker'][i]\n",
    "        driver.get(my_link)\n",
    "        if driver.current_url != 'https://stocktwits.com/':\n",
    "            for j in range(10):\n",
    "                driver.execute_script(\"window.scrollTo(0, document.body.scrollHeight);\")\n",
    "                time.sleep(4)\n",
    "\n",
    "            name = driver.find_elements_by_xpath(\"//a[@class[starts-with(., 'username')]]\")\n",
    "\n",
    "            def get_href_from_web_element(x):\n",
    "                a = x.get_attribute('href')\n",
    "                return a\n",
    "\n",
    "            name_href = list(map(get_href_from_web_element, name))\n",
    "            name_href_final = list(set(name_href))\n",
    "            mongo_logging(conn, {'user_href': name_href_final, 'ticker': ticker_list['Ticker'][i]})\n",
    "        if a == 300:\n",
    "            driver.quit()\n",
    "            a = 0\n",
    "    except:\n",
    "        continue\n"
   ]
  },
  {
   "cell_type": "code",
   "execution_count": null,
   "metadata": {
    "collapsed": false
   },
   "outputs": [],
   "source": [
    "s = list(set(name_href))"
   ]
  },
  {
   "cell_type": "code",
   "execution_count": 8,
   "metadata": {
    "collapsed": false
   },
   "outputs": [
    {
     "name": "stdout",
     "output_type": "stream",
     "text": [
      "  user_link\n",
      "0         a\n",
      "1         2\n"
     ]
    }
   ],
   "source": [
    "s = ['a', '2']\n",
    "a = pd.DataFrame.from_records(s, columns=['user_link'])\n",
    "print a"
   ]
  },
  {
   "cell_type": "code",
   "execution_count": 25,
   "metadata": {
    "collapsed": false
   },
   "outputs": [
    {
     "name": "stdout",
     "output_type": "stream",
     "text": [
      "SHTF\n",
      "SHTF\n",
      "SHTF\n",
      "SHTF\n",
      "SHTF\n",
      "SHTF\n",
      "SHTF\n",
      "SHTF\n"
     ]
    }
   ],
   "source": [
    "for i in conn.find():\n",
    "    print i['ticker']"
   ]
  },
  {
   "cell_type": "code",
   "execution_count": 29,
   "metadata": {
    "collapsed": false
   },
   "outputs": [],
   "source": [
    "a = mongo_connection(MONGO_HOST,MONGO_PORT,MONGO_DB,MONGO_COLLECTION )"
   ]
  },
  {
   "cell_type": "code",
   "execution_count": 23,
   "metadata": {
    "collapsed": false
   },
   "outputs": [],
   "source": [
    "for i in range(50):\n",
    "    mongo_logging(a, {'a':i})"
   ]
  },
  {
   "cell_type": "code",
   "execution_count": 25,
   "metadata": {
    "collapsed": false
   },
   "outputs": [
    {
     "data": {
      "text/plain": [
       "pymongo.cursor.Cursor"
      ]
     },
     "execution_count": 25,
     "metadata": {},
     "output_type": "execute_result"
    }
   ],
   "source": [
    "type(a.find())"
   ]
  },
  {
   "cell_type": "code",
   "execution_count": 36,
   "metadata": {
    "collapsed": false
   },
   "outputs": [],
   "source": [
    "db = pymongo.database.Database(a, 'test_DB')"
   ]
  },
  {
   "cell_type": "code",
   "execution_count": 18,
   "metadata": {
    "collapsed": false
   },
   "outputs": [],
   "source": [
    "b = MongoClient('localhost', 27017)"
   ]
  },
  {
   "cell_type": "code",
   "execution_count": 19,
   "metadata": {
    "collapsed": false
   },
   "outputs": [
    {
     "data": {
      "text/plain": [
       "[u'PRO596', u'admin', u'local']"
      ]
     },
     "execution_count": 19,
     "metadata": {},
     "output_type": "execute_result"
    }
   ],
   "source": [
    "b.database_names()"
   ]
  },
  {
   "cell_type": "code",
   "execution_count": 31,
   "metadata": {
    "collapsed": false
   },
   "outputs": [
    {
     "data": {
      "text/plain": [
       "{u'nIndexesWas': 1, u'ns': u'PRO596.result', u'ok': 1.0}"
      ]
     },
     "execution_count": 31,
     "metadata": {},
     "output_type": "execute_result"
    }
   ],
   "source": [
    "b['PRO596'].drop_collection('result')"
   ]
  },
  {
   "cell_type": "code",
   "execution_count": 52,
   "metadata": {
    "collapsed": false
   },
   "outputs": [
    {
     "data": {
      "text/plain": [
       "[u'posts']"
      ]
     },
     "execution_count": 52,
     "metadata": {},
     "output_type": "execute_result"
    }
   ],
   "source": [
    "b['pymongo_test'].collection_names()"
   ]
  },
  {
   "cell_type": "code",
   "execution_count": 55,
   "metadata": {
    "collapsed": false
   },
   "outputs": [],
   "source": [
    "for i in b['pymongo_test']['posts'].find():\n",
    "    print i"
   ]
  }
 ],
 "metadata": {
  "kernelspec": {
   "display_name": "Python 2",
   "language": "python",
   "name": "python2"
  },
  "language_info": {
   "codemirror_mode": {
    "name": "ipython",
    "version": 2
   },
   "file_extension": ".py",
   "mimetype": "text/x-python",
   "name": "python",
   "nbconvert_exporter": "python",
   "pygments_lexer": "ipython2",
   "version": "2.7.13"
  }
 },
 "nbformat": 4,
 "nbformat_minor": 2
}
