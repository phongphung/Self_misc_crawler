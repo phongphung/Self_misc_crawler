{
 "cells": [
  {
   "cell_type": "code",
   "execution_count": 2,
   "metadata": {
    "collapsed": true
   },
   "outputs": [],
   "source": [
    "from pymongo import MongoClient\n",
    "import pymongo\n",
    "MONGO_HOST = 'localhost'\n",
    "MONGO_PORT = 27017\n",
    "MONGO_DB = 'PRO596'\n",
    "MONGO_COLLECTION = 'user_information_test'\n",
    "\n",
    "def mongo_connection(host, port, db, collection):\n",
    "    try:\n",
    "        conn = MongoClient(host, port)\n",
    "        return conn[db][collection]\n",
    "    except:\n",
    "        raise\n",
    "\n",
    "def mongo_logging(connection, content):\n",
    "    try:\n",
    "        connection.insert_one(content)\n",
    "    except:\n",
    "        raise\n",
    "\n",
    "conn = mongo_connection(MONGO_HOST,MONGO_PORT,MONGO_DB,MONGO_COLLECTION )"
   ]
  },
  {
   "cell_type": "code",
   "execution_count": 3,
   "metadata": {
    "collapsed": false
   },
   "outputs": [],
   "source": [
    "import pandas as pd\n",
    "user_list = pd.read_csv(\"./user_extracted\", encoding='utf-8', sep=',')"
   ]
  },
  {
   "cell_type": "code",
   "execution_count": 4,
   "metadata": {
    "collapsed": true
   },
   "outputs": [],
   "source": [
    "user_list = user_list.drop_duplicates('user_link')\n",
    "\n",
    "user_list['user_name'] = ''\n",
    "user_list['screen_name'] = ''\n",
    "user_list['joined'] = ''\n",
    "user_list['description'] = ''\n",
    "user_list['tag_1'] = ''\n",
    "user_list['tag_2'] = ''\n",
    "user_list['tag_3'] = ''\n",
    "user_list['tag_4'] = ''\n",
    "user_list['user_expanded_url'] = ''\n",
    "user_list['posts_count'] = ''\n",
    "user_list['followers'] = ''\n",
    "user_list['following'] = ''\n",
    "user_list['watchlist_count'] = ''\n",
    "user_list['old_index'] = user_list.index\n",
    "user_list = user_list.reset_index(drop=True)"
   ]
  },
  {
   "cell_type": "code",
   "execution_count": 5,
   "metadata": {
    "collapsed": false,
    "scrolled": false
   },
   "outputs": [],
   "source": [
    "from selenium import webdriver\n",
    "from selenium.webdriver.common.keys import Keys\n",
    "from selenium.common.exceptions import NoSuchElementException\n",
    "import time\n",
    "import signal\n",
    "from IPython.display import clear_output"
   ]
  },
  {
   "cell_type": "code",
   "execution_count": 6,
   "metadata": {
    "collapsed": false
   },
   "outputs": [
    {
     "name": "stdout",
     "output_type": "stream",
     "text": [
      "2263\n",
      "https://stocktwits.com/InverseOne\n"
     ]
    },
    {
     "ename": "InvalidSelectorException",
     "evalue": "Message: Given xpath expression \"//img[@class[starts-with(., 'user-profile-avatar')]\" is invalid: SyntaxError: The expression is not a legal expression.\n",
     "output_type": "error",
     "traceback": [
      "\u001b[0;31m---------------------------------------------------------------------------\u001b[0m",
      "\u001b[0;31mInvalidSelectorException\u001b[0m                  Traceback (most recent call last)",
      "\u001b[0;32m<ipython-input-6-c334c64de9ff>\u001b[0m in \u001b[0;36m<module>\u001b[0;34m()\u001b[0m\n\u001b[1;32m     57\u001b[0m         \u001b[0mfollowing\u001b[0m \u001b[1;33m=\u001b[0m \u001b[0mdriver\u001b[0m\u001b[1;33m.\u001b[0m\u001b[0mfind_element_by_xpath\u001b[0m\u001b[1;33m(\u001b[0m\u001b[1;34m\"//ul[@id = 'traderStats']/li[3]/a/span\"\u001b[0m\u001b[1;33m)\u001b[0m\u001b[1;33m\u001b[0m\u001b[0m\n\u001b[1;32m     58\u001b[0m         \u001b[0mwatchlist_count\u001b[0m \u001b[1;33m=\u001b[0m \u001b[0mdriver\u001b[0m\u001b[1;33m.\u001b[0m\u001b[0mfind_element_by_xpath\u001b[0m\u001b[1;33m(\u001b[0m\u001b[1;34m\"//ul[@id = 'traderStats']/li[4]/a/span\"\u001b[0m\u001b[1;33m)\u001b[0m\u001b[1;33m\u001b[0m\u001b[0m\n\u001b[0;32m---> 59\u001b[0;31m         \u001b[0mavatar\u001b[0m \u001b[1;33m=\u001b[0m \u001b[0mdriver\u001b[0m\u001b[1;33m.\u001b[0m\u001b[0mfind_element_by_xpath\u001b[0m\u001b[1;33m(\u001b[0m\u001b[1;34m\"//img[@class[starts-with(., 'user-profile-avatar')]\"\u001b[0m\u001b[1;33m)\u001b[0m\u001b[1;33m.\u001b[0m\u001b[0mget_attribute\u001b[0m\u001b[1;33m(\u001b[0m\u001b[1;34m'src'\u001b[0m\u001b[1;33m)\u001b[0m\u001b[1;33m\u001b[0m\u001b[0m\n\u001b[0m\u001b[1;32m     60\u001b[0m \u001b[1;33m\u001b[0m\u001b[0m\n\u001b[1;32m     61\u001b[0m         mongo_logging(conn, \n",
      "\u001b[0;32mC:\\Users\\sentifi\\Anaconda2\\lib\\site-packages\\selenium\\webdriver\\remote\\webdriver.pyc\u001b[0m in \u001b[0;36mfind_element_by_xpath\u001b[0;34m(self, xpath)\u001b[0m\n\u001b[1;32m    291\u001b[0m             \u001b[0mdriver\u001b[0m\u001b[1;33m.\u001b[0m\u001b[0mfind_element_by_xpath\u001b[0m\u001b[1;33m(\u001b[0m\u001b[1;34m'//div/td[1]'\u001b[0m\u001b[1;33m)\u001b[0m\u001b[1;33m\u001b[0m\u001b[0m\n\u001b[1;32m    292\u001b[0m         \"\"\"\n\u001b[0;32m--> 293\u001b[0;31m         \u001b[1;32mreturn\u001b[0m \u001b[0mself\u001b[0m\u001b[1;33m.\u001b[0m\u001b[0mfind_element\u001b[0m\u001b[1;33m(\u001b[0m\u001b[0mby\u001b[0m\u001b[1;33m=\u001b[0m\u001b[0mBy\u001b[0m\u001b[1;33m.\u001b[0m\u001b[0mXPATH\u001b[0m\u001b[1;33m,\u001b[0m \u001b[0mvalue\u001b[0m\u001b[1;33m=\u001b[0m\u001b[0mxpath\u001b[0m\u001b[1;33m)\u001b[0m\u001b[1;33m\u001b[0m\u001b[0m\n\u001b[0m\u001b[1;32m    294\u001b[0m \u001b[1;33m\u001b[0m\u001b[0m\n\u001b[1;32m    295\u001b[0m     \u001b[1;32mdef\u001b[0m \u001b[0mfind_elements_by_xpath\u001b[0m\u001b[1;33m(\u001b[0m\u001b[0mself\u001b[0m\u001b[1;33m,\u001b[0m \u001b[0mxpath\u001b[0m\u001b[1;33m)\u001b[0m\u001b[1;33m:\u001b[0m\u001b[1;33m\u001b[0m\u001b[0m\n",
      "\u001b[0;32mC:\\Users\\sentifi\\Anaconda2\\lib\\site-packages\\selenium\\webdriver\\remote\\webdriver.pyc\u001b[0m in \u001b[0;36mfind_element\u001b[0;34m(self, by, value)\u001b[0m\n\u001b[1;32m    750\u001b[0m         return self.execute(Command.FIND_ELEMENT, {\n\u001b[1;32m    751\u001b[0m             \u001b[1;34m'using'\u001b[0m\u001b[1;33m:\u001b[0m \u001b[0mby\u001b[0m\u001b[1;33m,\u001b[0m\u001b[1;33m\u001b[0m\u001b[0m\n\u001b[0;32m--> 752\u001b[0;31m             'value': value})['value']\n\u001b[0m\u001b[1;32m    753\u001b[0m \u001b[1;33m\u001b[0m\u001b[0m\n\u001b[1;32m    754\u001b[0m     \u001b[1;32mdef\u001b[0m \u001b[0mfind_elements\u001b[0m\u001b[1;33m(\u001b[0m\u001b[0mself\u001b[0m\u001b[1;33m,\u001b[0m \u001b[0mby\u001b[0m\u001b[1;33m=\u001b[0m\u001b[0mBy\u001b[0m\u001b[1;33m.\u001b[0m\u001b[0mID\u001b[0m\u001b[1;33m,\u001b[0m \u001b[0mvalue\u001b[0m\u001b[1;33m=\u001b[0m\u001b[0mNone\u001b[0m\u001b[1;33m)\u001b[0m\u001b[1;33m:\u001b[0m\u001b[1;33m\u001b[0m\u001b[0m\n",
      "\u001b[0;32mC:\\Users\\sentifi\\Anaconda2\\lib\\site-packages\\selenium\\webdriver\\remote\\webdriver.pyc\u001b[0m in \u001b[0;36mexecute\u001b[0;34m(self, driver_command, params)\u001b[0m\n\u001b[1;32m    234\u001b[0m         \u001b[0mresponse\u001b[0m \u001b[1;33m=\u001b[0m \u001b[0mself\u001b[0m\u001b[1;33m.\u001b[0m\u001b[0mcommand_executor\u001b[0m\u001b[1;33m.\u001b[0m\u001b[0mexecute\u001b[0m\u001b[1;33m(\u001b[0m\u001b[0mdriver_command\u001b[0m\u001b[1;33m,\u001b[0m \u001b[0mparams\u001b[0m\u001b[1;33m)\u001b[0m\u001b[1;33m\u001b[0m\u001b[0m\n\u001b[1;32m    235\u001b[0m         \u001b[1;32mif\u001b[0m \u001b[0mresponse\u001b[0m\u001b[1;33m:\u001b[0m\u001b[1;33m\u001b[0m\u001b[0m\n\u001b[0;32m--> 236\u001b[0;31m             \u001b[0mself\u001b[0m\u001b[1;33m.\u001b[0m\u001b[0merror_handler\u001b[0m\u001b[1;33m.\u001b[0m\u001b[0mcheck_response\u001b[0m\u001b[1;33m(\u001b[0m\u001b[0mresponse\u001b[0m\u001b[1;33m)\u001b[0m\u001b[1;33m\u001b[0m\u001b[0m\n\u001b[0m\u001b[1;32m    237\u001b[0m             response['value'] = self._unwrap_value(\n\u001b[1;32m    238\u001b[0m                 response.get('value', None))\n",
      "\u001b[0;32mC:\\Users\\sentifi\\Anaconda2\\lib\\site-packages\\selenium\\webdriver\\remote\\errorhandler.pyc\u001b[0m in \u001b[0;36mcheck_response\u001b[0;34m(self, response)\u001b[0m\n\u001b[1;32m    190\u001b[0m         \u001b[1;32melif\u001b[0m \u001b[0mexception_class\u001b[0m \u001b[1;33m==\u001b[0m \u001b[0mUnexpectedAlertPresentException\u001b[0m \u001b[1;32mand\u001b[0m \u001b[1;34m'alert'\u001b[0m \u001b[1;32min\u001b[0m \u001b[0mvalue\u001b[0m\u001b[1;33m:\u001b[0m\u001b[1;33m\u001b[0m\u001b[0m\n\u001b[1;32m    191\u001b[0m             \u001b[1;32mraise\u001b[0m \u001b[0mexception_class\u001b[0m\u001b[1;33m(\u001b[0m\u001b[0mmessage\u001b[0m\u001b[1;33m,\u001b[0m \u001b[0mscreen\u001b[0m\u001b[1;33m,\u001b[0m \u001b[0mstacktrace\u001b[0m\u001b[1;33m,\u001b[0m \u001b[0mvalue\u001b[0m\u001b[1;33m[\u001b[0m\u001b[1;34m'alert'\u001b[0m\u001b[1;33m]\u001b[0m\u001b[1;33m.\u001b[0m\u001b[0mget\u001b[0m\u001b[1;33m(\u001b[0m\u001b[1;34m'text'\u001b[0m\u001b[1;33m)\u001b[0m\u001b[1;33m)\u001b[0m\u001b[1;33m\u001b[0m\u001b[0m\n\u001b[0;32m--> 192\u001b[0;31m         \u001b[1;32mraise\u001b[0m \u001b[0mexception_class\u001b[0m\u001b[1;33m(\u001b[0m\u001b[0mmessage\u001b[0m\u001b[1;33m,\u001b[0m \u001b[0mscreen\u001b[0m\u001b[1;33m,\u001b[0m \u001b[0mstacktrace\u001b[0m\u001b[1;33m)\u001b[0m\u001b[1;33m\u001b[0m\u001b[0m\n\u001b[0m\u001b[1;32m    193\u001b[0m \u001b[1;33m\u001b[0m\u001b[0m\n\u001b[1;32m    194\u001b[0m     \u001b[1;32mdef\u001b[0m \u001b[0m_value_or_default\u001b[0m\u001b[1;33m(\u001b[0m\u001b[0mself\u001b[0m\u001b[1;33m,\u001b[0m \u001b[0mobj\u001b[0m\u001b[1;33m,\u001b[0m \u001b[0mkey\u001b[0m\u001b[1;33m,\u001b[0m \u001b[0mdefault\u001b[0m\u001b[1;33m)\u001b[0m\u001b[1;33m:\u001b[0m\u001b[1;33m\u001b[0m\u001b[0m\n",
      "\u001b[0;31mInvalidSelectorException\u001b[0m: Message: Given xpath expression \"//img[@class[starts-with(., 'user-profile-avatar')]\" is invalid: SyntaxError: The expression is not a legal expression.\n"
     ]
    }
   ],
   "source": [
    "count = 0\n",
    "for i in user_list.index[2263:17114]:\n",
    "    try:\n",
    "        count += 1\n",
    "        if count == 1:\n",
    "            #driver = webdriver.PhantomJS('C:\\Users\\sentifi\\Private\\phantomjs.exe')\n",
    "            driver = webdriver.Firefox()\n",
    "        clear_output()\n",
    "        print i\n",
    "        print user_list['user_link'][i]\n",
    "        driver.get(user_list['user_link'][i])\n",
    "\n",
    "        try:\n",
    "            description = driver.find_element_by_xpath(\"//p[@class[starts-with(., 'user-bio')]]\").text\n",
    "        except NoSuchElementException:\n",
    "            description = ''\n",
    "            pass\n",
    "\n",
    "        try:\n",
    "            tags1 = driver.find_element_by_xpath(\"//ul[@class[starts-with(., 'user-info-icon user-strategy clearfix')]]/li[1]\").text\n",
    "        except NoSuchElementException:\n",
    "            tags1 = ''\n",
    "            pass\n",
    "\n",
    "        try:\n",
    "            tags2 = driver.find_element_by_xpath(\"//ul[@class[starts-with(., 'user-info-icon user-strategy clearfix')]]/li[2]\").text\n",
    "        except NoSuchElementException:\n",
    "            tags2 = ''\n",
    "            pass\n",
    "\n",
    "        try:\n",
    "            tags3 = driver.find_element_by_xpath(\"//ul[@class[starts-with(., 'user-info-icon user-strategy clearfix')]]/li[3]\").text\n",
    "        except NoSuchElementException:\n",
    "            tags3 = ''\n",
    "            pass\n",
    "\n",
    "        try:\n",
    "            tags4 = driver.find_element_by_xpath(\"//ul[@class[starts-with(., 'user-info-icon user-strategy clearfix')]]/li[4]\").text\n",
    "        except NoSuchElementException:\n",
    "            tags4 = ''\n",
    "            pass\n",
    "\n",
    "        try:\n",
    "            user_expanded_url = driver.find_element_by_xpath(\"//div[@class[starts-with(., 'user-info-icon user-website')]]/a\").get_attribute('href')\n",
    "        except NoSuchElementException:\n",
    "            user_expanded_url = ''\n",
    "            pass\n",
    "\n",
    "\n",
    "        user_name = driver.find_element_by_xpath(\"//div[@class[starts-with(., 'user-top-info')]]/h1\")\n",
    "        screen_name = driver.find_element_by_xpath(\"//div[@class[starts-with(., 'user-top-info')]]/h2\")\n",
    "        #description = driver.find_element_by_xpath(\"//p[@class[starts-with(., 'user-bio')]]\")\n",
    "        #tags = driver.find_element_by_xpath(\"//ul[@class[starts-with(., 'user-info-icon user-strategy clearfix')]]\")\n",
    "        #user_expanded_url = driver.find_element_by_xpath(\"//div[@class[starts-with(., 'user-info-icon user-website')]]/a\")\n",
    "        posts_count = driver.find_element_by_xpath(\"//ul[@id = 'traderStats']/li[1]/a/span\")\n",
    "        followers = driver.find_element_by_xpath(\"//ul[@id = 'traderStats']/li[2]/a/span\")\n",
    "        following = driver.find_element_by_xpath(\"//ul[@id = 'traderStats']/li[3]/a/span\")\n",
    "        watchlist_count = driver.find_element_by_xpath(\"//ul[@id = 'traderStats']/li[4]/a/span\")\n",
    "        avatar_select = driver.find_element_by_xpath(\"//img[@class[starts-with(., 'user-profile-avatar')]\")\n",
    "        avatar = avatar_select.get_attribute('src')\n",
    "\n",
    "        mongo_logging(conn, \n",
    "                     {\n",
    "                         \"user_href\" : user_list['user_link'][i],\n",
    "                         \"user_name\" : user_name.text,\n",
    "                         \"screen_name\" : screen_name.text[:screen_name.text.index('Joined')],\n",
    "                         \"joined\" : screen_name.text[screen_name.text.index('Joined') + 7:],\n",
    "                         \"description\" : description,\n",
    "                         \"tag_1\" : tags1,\n",
    "                         \"tag_2\" : tags2,\n",
    "                         \"tag_3\" : tags3,\n",
    "                         \"tag_4\" : tags4,\n",
    "                         \"user_expanded_url\" : user_expanded_url,\n",
    "                         \"posts_count\" : posts_count.text,\n",
    "                         \"followers\" : followers.text,\n",
    "                         \"following\" : following.text,\n",
    "                         \"watchlist_count\" : watchlist_count.text,\n",
    "                         \"avatar_link\": avatar\n",
    "                     }) \n",
    "        if count == 300:\n",
    "            driver.quit()\n",
    "            count = 0\n",
    "    except:\n",
    "        raise"
   ]
  },
  {
   "cell_type": "code",
   "execution_count": 10,
   "metadata": {
    "collapsed": false
   },
   "outputs": [
    {
     "name": "stdout",
     "output_type": "stream",
     "text": [
      "15\n"
     ]
    }
   ],
   "source": [
    "print count"
   ]
  },
  {
   "cell_type": "code",
   "execution_count": 19,
   "metadata": {
    "collapsed": true
   },
   "outputs": [],
   "source": [
    "screen_name_split = screen_name.text[:screen_name.text.index('Joined') - 1]\n",
    "joined = screen_name.text[screen_name.text.index('Joined') + 7:]"
   ]
  },
  {
   "cell_type": "code",
   "execution_count": 20,
   "metadata": {
    "collapsed": false
   },
   "outputs": [
    {
     "data": {
      "text/plain": [
       "u'Nov 30, 2016'"
      ]
     },
     "execution_count": 20,
     "metadata": {},
     "output_type": "execute_result"
    }
   ],
   "source": [
    "joined"
   ]
  },
  {
   "cell_type": "code",
   "execution_count": 6,
   "metadata": {
    "collapsed": false
   },
   "outputs": [],
   "source": [
    "try:\n",
    "    description = driver.find_element_by_xpath(\"//p[@class[starts-with(., 'user-bio')]]\").text\n",
    "except NoSuchElementException:\n",
    "    description = ''\n",
    "    pass\n",
    "\n",
    "try:\n",
    "    tags1 = driver.find_element_by_xpath(\"//ul[@class[starts-with(., 'user-info-icon user-strategy clearfix')]]/li[1]\").text\n",
    "except NoSuchElementException:\n",
    "    tags1 = ''\n",
    "    pass\n",
    "\n",
    "try:\n",
    "    tags2 = driver.find_element_by_xpath(\"//ul[@class[starts-with(., 'user-info-icon user-strategy clearfix')]]/li[2]\").text\n",
    "except NoSuchElementException:\n",
    "    tags2 = ''\n",
    "    pass\n",
    "\n",
    "try:\n",
    "    tags3 = driver.find_element_by_xpath(\"//ul[@class[starts-with(., 'user-info-icon user-strategy clearfix')]]/li[3]\").text\n",
    "except NoSuchElementException:\n",
    "    tags3 = ''\n",
    "    pass\n",
    "\n",
    "try:\n",
    "    tags4 = driver.find_element_by_xpath(\"//ul[@class[starts-with(., 'user-info-icon user-strategy clearfix')]]/li[4]\").text\n",
    "except NoSuchElementException:\n",
    "    tags4 = ''\n",
    "    pass\n",
    "\n",
    "try:\n",
    "    user_expanded_url = driver.find_element_by_xpath(\"//div[@class[starts-with(., 'user-info-icon user-website')]]/a\").get_attribute('href')\n",
    "except NoSuchElementException:\n",
    "    user_expanded_url = ''\n",
    "    pass\n",
    "\n",
    "\n",
    "user_name = driver.find_element_by_xpath(\"//div[@class[starts-with(., 'user-top-info')]]/h1\")\n",
    "screen_name = driver.find_element_by_xpath(\"//div[@class[starts-with(., 'user-top-info')]]/h2\")\n",
    "#description = driver.find_element_by_xpath(\"//p[@class[starts-with(., 'user-bio')]]\")\n",
    "#tags = driver.find_element_by_xpath(\"//ul[@class[starts-with(., 'user-info-icon user-strategy clearfix')]]\")\n",
    "#user_expanded_url = driver.find_element_by_xpath(\"//div[@class[starts-with(., 'user-info-icon user-website')]]/a\")\n",
    "posts_count = driver.find_element_by_xpath(\"//ul[@id = 'traderStats']/li[1]/a/span\")\n",
    "followers = driver.find_element_by_xpath(\"//ul[@id = 'traderStats']/li[2]/a/span\")\n",
    "following = driver.find_element_by_xpath(\"//ul[@id = 'traderStats']/li[3]/a/span\")\n",
    "watchlist_count = driver.find_element_by_xpath(\"//ul[@id = 'traderStats']/li[4]/a/span\")"
   ]
  },
  {
   "cell_type": "code",
   "execution_count": 9,
   "metadata": {
    "collapsed": false
   },
   "outputs": [
    {
     "name": "stdout",
     "output_type": "stream",
     "text": [
      "HandDon\n",
      "Don Hand Joined Oct 20, 2014\n"
     ]
    },
    {
     "ename": "ValueError",
     "evalue": "substring not found",
     "output_type": "error",
     "traceback": [
      "\u001b[0;31m---------------------------------------------------------------------------\u001b[0m",
      "\u001b[0;31mValueError\u001b[0m                                Traceback (most recent call last)",
      "\u001b[0;32m<ipython-input-9-a777c2f5cfca>\u001b[0m in \u001b[0;36m<module>\u001b[0;34m()\u001b[0m\n\u001b[1;32m      1\u001b[0m \u001b[1;32mprint\u001b[0m \u001b[0muser_name\u001b[0m\u001b[1;33m.\u001b[0m\u001b[0mtext\u001b[0m\u001b[1;33m\u001b[0m\u001b[0m\n\u001b[1;32m      2\u001b[0m \u001b[1;32mprint\u001b[0m \u001b[0mscreen_name\u001b[0m\u001b[1;33m.\u001b[0m\u001b[0mtext\u001b[0m\u001b[1;33m\u001b[0m\u001b[0m\n\u001b[0;32m----> 3\u001b[0;31m \u001b[1;32mprint\u001b[0m \u001b[0mscreen_name\u001b[0m\u001b[1;33m.\u001b[0m\u001b[0mtext\u001b[0m\u001b[1;33m[\u001b[0m\u001b[1;33m:\u001b[0m\u001b[0mscreen_name\u001b[0m\u001b[1;33m.\u001b[0m\u001b[0mtext\u001b[0m\u001b[1;33m.\u001b[0m\u001b[0mindex\u001b[0m\u001b[1;33m(\u001b[0m\u001b[1;34m'\\n'\u001b[0m\u001b[1;33m)\u001b[0m\u001b[1;33m]\u001b[0m\u001b[1;33m\u001b[0m\u001b[0m\n\u001b[0m\u001b[1;32m      4\u001b[0m \u001b[1;32mprint\u001b[0m \u001b[0mscreen_name\u001b[0m\u001b[1;33m.\u001b[0m\u001b[0mtext\u001b[0m\u001b[1;33m[\u001b[0m\u001b[0mscreen_name\u001b[0m\u001b[1;33m.\u001b[0m\u001b[0mtext\u001b[0m\u001b[1;33m.\u001b[0m\u001b[0mindex\u001b[0m\u001b[1;33m(\u001b[0m\u001b[1;34m'\\n'\u001b[0m\u001b[1;33m)\u001b[0m\u001b[1;33m+\u001b[0m\u001b[1;36m1\u001b[0m \u001b[1;33m:\u001b[0m\u001b[1;33m]\u001b[0m\u001b[1;33m\u001b[0m\u001b[0m\n\u001b[1;32m      5\u001b[0m \u001b[1;32mprint\u001b[0m \u001b[0mdescription\u001b[0m\u001b[1;33m\u001b[0m\u001b[0m\n",
      "\u001b[0;31mValueError\u001b[0m: substring not found"
     ]
    }
   ],
   "source": [
    "print user_name.text\n",
    "print screen_name.text\n",
    "print screen_name.text[:screen_name.text.index('\\n')]\n",
    "print screen_name.text[screen_name.text.index('\\n')+1 :] \n",
    "print description\n",
    "print [tags1, tags2, tags3, tags4]\n",
    "print user_expanded_url\n",
    "print posts_count.text\n",
    "print followers.text\n",
    "print following.text\n",
    "print watchlist_count.text"
   ]
  }
 ],
 "metadata": {
  "kernelspec": {
   "display_name": "Python 2",
   "language": "python",
   "name": "python2"
  },
  "language_info": {
   "codemirror_mode": {
    "name": "ipython",
    "version": 2
   },
   "file_extension": ".py",
   "mimetype": "text/x-python",
   "name": "python",
   "nbconvert_exporter": "python",
   "pygments_lexer": "ipython2",
   "version": "2.7.13"
  }
 },
 "nbformat": 4,
 "nbformat_minor": 2
}
