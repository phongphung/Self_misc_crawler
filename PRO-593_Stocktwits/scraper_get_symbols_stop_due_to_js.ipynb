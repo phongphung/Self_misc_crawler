{
 "cells": [
  {
   "cell_type": "code",
   "execution_count": 1,
   "metadata": {
    "collapsed": true
   },
   "outputs": [],
   "source": [
    "# _*_ coding: utf-8 _*_\n",
    "\n",
    "import scrapy\n",
    "\n",
    "class EZSpider(scrapy.Spider):\n",
    "    name = 'stocktwits_symbols_spider'\n",
    "    start_urls = ['https://stocktwits.com/signals/heatmap']\n",
    "    #def start_requests(self):\n",
    "    #    url = 'https://stocktwits.com/signals/heatmap'\n",
    "    #    yield scrapy.Request(url=url, callback=self.parse)\n",
    "    \n",
    "    def parse(self, response):\n",
    "        SET_SELECTOR = '.stock-cell'\n",
    "        #PAGE_INFO_SELECTOR = './/link[@rel = \"canonical\"]/@href'\n",
    "        #a = response.xpath(PAGE_INFO_SELECTOR)\n",
    "        for temp in response.css(SET_SELECTOR):\n",
    "            DATA_SYMBOL = './/div/@data-symbol'\n",
    "            DATA_TITLE = './/div/@data-title'\n",
    "            a = temp.xpath(DATA_SYMBOL).extract_first()\n",
    "            b = temp.xpath(DATA_TITLE).extract_first()\n",
    "            #result = result.append(temp.xpath(TERMS_SELECTOR).extract_first(),temp.xpath(TERMS_URL_SELECTOR).extract_first())\n",
    "            #yield {\n",
    "            #    'terms': temp.xpath(TERMS_SELECTOR).extract_first(),\n",
    "            #    'url': temp.xpath(TERMS_URL_SELECTOR).extract_first(),\n",
    "            #    'page_url': response.xpath(PAGE_URL).extract_first(),\n",
    "            #}\n",
    "            print a\n",
    "            print b"
   ]
  }
 ],
 "metadata": {
  "kernelspec": {
   "display_name": "Python 2",
   "language": "python",
   "name": "python2"
  },
  "language_info": {
   "codemirror_mode": {
    "name": "ipython",
    "version": 2
   },
   "file_extension": ".py",
   "mimetype": "text/x-python",
   "name": "python",
   "nbconvert_exporter": "python",
   "pygments_lexer": "ipython2",
   "version": "2.7.13"
  }
 },
 "nbformat": 4,
 "nbformat_minor": 2
}
