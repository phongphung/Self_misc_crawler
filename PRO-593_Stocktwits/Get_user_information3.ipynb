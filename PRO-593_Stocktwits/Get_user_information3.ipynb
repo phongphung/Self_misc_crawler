{
 "cells": [
  {
   "cell_type": "code",
   "execution_count": 1,
   "metadata": {
    "collapsed": true
   },
   "outputs": [],
   "source": [
    "from pymongo import MongoClient\n",
    "import pymongo\n",
    "MONGO_HOST = 'localhost'\n",
    "MONGO_PORT = 27017\n",
    "MONGO_DB = 'PRO596'\n",
    "MONGO_COLLECTION = 'user_information_test'\n",
    "\n",
    "def mongo_connection(host, port, db, collection):\n",
    "    try:\n",
    "        conn = MongoClient(host, port)\n",
    "        return conn[db][collection]\n",
    "    except:\n",
    "        raise\n",
    "\n",
    "def mongo_logging(connection, content):\n",
    "    try:\n",
    "        connection.insert_one(content)\n",
    "    except:\n",
    "        raise\n",
    "\n",
    "conn = mongo_connection(MONGO_HOST,MONGO_PORT,MONGO_DB,MONGO_COLLECTION )"
   ]
  },
  {
   "cell_type": "code",
   "execution_count": 2,
   "metadata": {
    "collapsed": false
   },
   "outputs": [],
   "source": [
    "import pandas as pd\n",
    "user_list = pd.read_csv(\"./user_extracted\", encoding='utf-8', sep=',')"
   ]
  },
  {
   "cell_type": "code",
   "execution_count": 3,
   "metadata": {
    "collapsed": true
   },
   "outputs": [],
   "source": [
    "user_list = user_list.drop_duplicates('user_link')\n",
    "\n",
    "user_list['user_name'] = ''\n",
    "user_list['screen_name'] = ''\n",
    "user_list['joined'] = ''\n",
    "user_list['description'] = ''\n",
    "user_list['tag_1'] = ''\n",
    "user_list['tag_2'] = ''\n",
    "user_list['tag_3'] = ''\n",
    "user_list['tag_4'] = ''\n",
    "user_list['user_expanded_url'] = ''\n",
    "user_list['posts_count'] = ''\n",
    "user_list['followers'] = ''\n",
    "user_list['following'] = ''\n",
    "user_list['watchlist_count'] = ''\n",
    "user_list['old_index'] = user_list.index\n",
    "user_list = user_list.reset_index(drop=True)"
   ]
  },
  {
   "cell_type": "code",
   "execution_count": 4,
   "metadata": {
    "collapsed": false,
    "scrolled": false
   },
   "outputs": [],
   "source": [
    "from selenium import webdriver\n",
    "from selenium.webdriver.common.keys import Keys\n",
    "from selenium.common.exceptions import NoSuchElementException\n",
    "import time\n",
    "import signal\n",
    "from IPython.display import clear_output"
   ]
  },
  {
   "cell_type": "code",
   "execution_count": 5,
   "metadata": {
    "collapsed": false
   },
   "outputs": [
    {
     "name": "stdout",
     "output_type": "stream",
     "text": [
      "51344\n",
      "https://stocktwits.com/rickmt\n"
     ]
    }
   ],
   "source": [
    "count = 0\n",
    "for i in user_list.index[50442:]:\n",
    "    try:\n",
    "        count += 1\n",
    "        if count == 1:\n",
    "            driver = webdriver.Firefox()\n",
    "        clear_output()\n",
    "        print i\n",
    "        print user_list['user_link'][i]\n",
    "        driver.get(user_list['user_link'][i])\n",
    "\n",
    "        try:\n",
    "            description = driver.find_element_by_xpath(\"//p[@class[starts-with(., 'user-bio')]]\").text\n",
    "        except NoSuchElementException:\n",
    "            description = ''\n",
    "            pass\n",
    "\n",
    "        try:\n",
    "            tags1 = driver.find_element_by_xpath(\"//ul[@class[starts-with(., 'user-info-icon user-strategy clearfix')]]/li[1]\").text\n",
    "        except NoSuchElementException:\n",
    "            tags1 = ''\n",
    "            pass\n",
    "\n",
    "        try:\n",
    "            tags2 = driver.find_element_by_xpath(\"//ul[@class[starts-with(., 'user-info-icon user-strategy clearfix')]]/li[2]\").text\n",
    "        except NoSuchElementException:\n",
    "            tags2 = ''\n",
    "            pass\n",
    "\n",
    "        try:\n",
    "            tags3 = driver.find_element_by_xpath(\"//ul[@class[starts-with(., 'user-info-icon user-strategy clearfix')]]/li[3]\").text\n",
    "        except NoSuchElementException:\n",
    "            tags3 = ''\n",
    "            pass\n",
    "\n",
    "        try:\n",
    "            tags4 = driver.find_element_by_xpath(\"//ul[@class[starts-with(., 'user-info-icon user-strategy clearfix')]]/li[4]\").text\n",
    "        except NoSuchElementException:\n",
    "            tags4 = ''\n",
    "            pass\n",
    "\n",
    "        try:\n",
    "            user_expanded_url = driver.find_element_by_xpath(\"//div[@class[starts-with(., 'user-info-icon user-website')]]/a\").get_attribute('href')\n",
    "        except NoSuchElementException:\n",
    "            user_expanded_url = ''\n",
    "            pass\n",
    "\n",
    "\n",
    "        user_name = driver.find_element_by_xpath(\"//div[@class[starts-with(., 'user-top-info')]]/h1\")\n",
    "        screen_name = driver.find_element_by_xpath(\"//div[@class[starts-with(., 'user-top-info')]]/h2\")\n",
    "        #description = driver.find_element_by_xpath(\"//p[@class[starts-with(., 'user-bio')]]\")\n",
    "        #tags = driver.find_element_by_xpath(\"//ul[@class[starts-with(., 'user-info-icon user-strategy clearfix')]]\")\n",
    "        #user_expanded_url = driver.find_element_by_xpath(\"//div[@class[starts-with(., 'user-info-icon user-website')]]/a\")\n",
    "        posts_count = driver.find_element_by_xpath(\"//ul[@id = 'traderStats']/li[1]/a/span\")\n",
    "        followers = driver.find_element_by_xpath(\"//ul[@id = 'traderStats']/li[2]/a/span\")\n",
    "        following = driver.find_element_by_xpath(\"//ul[@id = 'traderStats']/li[3]/a/span\")\n",
    "        watchlist_count = driver.find_element_by_xpath(\"//ul[@id = 'traderStats']/li[4]/a/span\")\n",
    "        avatar_select = driver.find_element_by_xpath(\"//img[@class = 'user-profile-avatar']\")\n",
    "        avatar = avatar_select.get_attribute('src')\n",
    "\n",
    "        mongo_logging(conn, \n",
    "                     {\n",
    "                         \"user_href\" : user_list['user_link'][i],\n",
    "                         \"user_name\" : user_name.text,\n",
    "                         \"screen_name\" : screen_name.text[:screen_name.text.index('Joined')],\n",
    "                         \"joined\" : screen_name.text[screen_name.text.index('Joined') + 7:],\n",
    "                         \"description\" : description,\n",
    "                         \"tag_1\" : tags1,\n",
    "                         \"tag_2\" : tags2,\n",
    "                         \"tag_3\" : tags3,\n",
    "                         \"tag_4\" : tags4,\n",
    "                         \"user_expanded_url\" : user_expanded_url,\n",
    "                         \"posts_count\" : posts_count.text,\n",
    "                         \"followers\" : followers.text,\n",
    "                         \"following\" : following.text,\n",
    "                         \"watchlist_count\" : watchlist_count.text,\n",
    "                         \"avatar_link\": avatar\n",
    "                     }) \n",
    "        if count == 300:\n",
    "            driver.quit()\n",
    "            count = 0\n",
    "    except:\n",
    "        continue"
   ]
  },
  {
   "cell_type": "code",
   "execution_count": 125,
   "metadata": {
    "collapsed": false
   },
   "outputs": [],
   "source": [
    "try:\n",
    "    description = driver.find_element_by_xpath(\"//p[@class[starts-with(., 'user-bio')]]\").text\n",
    "except NoSuchElementException:\n",
    "    description = ''\n",
    "    pass\n",
    "\n",
    "try:\n",
    "    tags1 = driver.find_element_by_xpath(\"//ul[@class[starts-with(., 'user-info-icon user-strategy clearfix')]]/li[1]\").text\n",
    "except NoSuchElementException:\n",
    "    tags1 = ''\n",
    "    pass\n",
    "\n",
    "try:\n",
    "    tags2 = driver.find_element_by_xpath(\"//ul[@class[starts-with(., 'user-info-icon user-strategy clearfix')]]/li[2]\").text\n",
    "except NoSuchElementException:\n",
    "    tags2 = ''\n",
    "    pass\n",
    "\n",
    "try:\n",
    "    tags3 = driver.find_element_by_xpath(\"//ul[@class[starts-with(., 'user-info-icon user-strategy clearfix')]]/li[3]\").text\n",
    "except NoSuchElementException:\n",
    "    tags3 = ''\n",
    "    pass\n",
    "\n",
    "try:\n",
    "    tags4 = driver.find_element_by_xpath(\"//ul[@class[starts-with(., 'user-info-icon user-strategy clearfix')]]/li[4]\").text\n",
    "except NoSuchElementException:\n",
    "    tags4 = ''\n",
    "    pass\n",
    "\n",
    "try:\n",
    "    user_expanded_url = driver.find_element_by_xpath(\"//div[@class[starts-with(., 'user-info-icon user-website')]]/a\").get_attribute('href')\n",
    "except NoSuchElementException:\n",
    "    user_expanded_url = ''\n",
    "    pass\n",
    "\n",
    "\n",
    "user_name = driver.find_element_by_xpath(\"//div[@class[starts-with(., 'user-top-info')]]/h1\")\n",
    "screen_name = driver.find_element_by_xpath(\"//div[@class[starts-with(., 'user-top-info')]]/h2\")\n",
    "#description = driver.find_element_by_xpath(\"//p[@class[starts-with(., 'user-bio')]]\")\n",
    "#tags = driver.find_element_by_xpath(\"//ul[@class[starts-with(., 'user-info-icon user-strategy clearfix')]]\")\n",
    "#user_expanded_url = driver.find_element_by_xpath(\"//div[@class[starts-with(., 'user-info-icon user-website')]]/a\")\n",
    "posts_count = driver.find_element_by_xpath(\"//ul[@id = 'traderStats']/li[1]/a/span\")\n",
    "followers = driver.find_element_by_xpath(\"//ul[@id = 'traderStats']/li[2]/a/span\")\n",
    "following = driver.find_element_by_xpath(\"//ul[@id = 'traderStats']/li[3]/a/span\")\n",
    "watchlist_count = driver.find_element_by_xpath(\"//ul[@id = 'traderStats']/li[4]/a/span\")"
   ]
  },
  {
   "cell_type": "code",
   "execution_count": 127,
   "metadata": {
    "collapsed": false
   },
   "outputs": [
    {
     "name": "stdout",
     "output_type": "stream",
     "text": [
      "littlenickysmith\n",
      "nick smith\n",
      "Joined Jun 26, 2014\n",
      "\n",
      "[u'Intermediate', u'Equities', u'Day Trader', '']\n",
      "\n",
      "26,216\n",
      "8,439\n",
      "128\n",
      "8\n"
     ]
    }
   ],
   "source": [
    "print user_name.text\n",
    "print screen_name.text[:screen_name.text.index('\\n')]\n",
    "print screen_name.text[screen_name.text.index('\\n') + 1:]\n",
    "print description\n",
    "print [tags1, tags2, tags3, tags4]\n",
    "print user_expanded_url\n",
    "print posts_count.text\n",
    "print followers.text\n",
    "print following.text\n",
    "print watchlist_count.text"
   ]
  }
 ],
 "metadata": {
  "kernelspec": {
   "display_name": "Python 2",
   "language": "python",
   "name": "python2"
  },
  "language_info": {
   "codemirror_mode": {
    "name": "ipython",
    "version": 2
   },
   "file_extension": ".py",
   "mimetype": "text/x-python",
   "name": "python",
   "nbconvert_exporter": "python",
   "pygments_lexer": "ipython2",
   "version": "2.7.13"
  }
 },
 "nbformat": 4,
 "nbformat_minor": 2
}
