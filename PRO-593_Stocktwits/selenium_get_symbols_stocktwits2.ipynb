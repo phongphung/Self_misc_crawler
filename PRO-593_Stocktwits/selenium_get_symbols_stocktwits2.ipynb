{
 "cells": [
  {
   "cell_type": "code",
   "execution_count": 1,
   "metadata": {
    "collapsed": true
   },
   "outputs": [],
   "source": [
    "import pandas as pd\n",
    "#ticker list\n",
    "ticker_list = pd.read_csv(\"./Ticker_export.csv\", encoding = 'utf-8', sep = ',')"
   ]
  },
  {
   "cell_type": "code",
   "execution_count": 2,
   "metadata": {
    "collapsed": true
   },
   "outputs": [],
   "source": [
    "from pymongo import MongoClient\n",
    "import pymongo\n",
    "MONGO_HOST = 'localhost'\n",
    "MONGO_PORT = 27017\n",
    "MONGO_DB = 'PRO596'\n",
    "MONGO_COLLECTION = 'result'\n",
    "\n",
    "def mongo_connection(host, port, db, collection):\n",
    "    try:\n",
    "        conn = MongoClient(host, port)\n",
    "        return conn[db][collection]\n",
    "    except:\n",
    "        raise\n",
    "\n",
    "def mongo_logging(connection, content):\n",
    "    try:\n",
    "        connection.insert_one(content)\n",
    "    except:\n",
    "        raise\n",
    "\n",
    "conn = mongo_connection(MONGO_HOST,MONGO_PORT,MONGO_DB,MONGO_COLLECTION )"
   ]
  },
  {
   "cell_type": "code",
   "execution_count": 4,
   "metadata": {
    "collapsed": false,
    "scrolled": false
   },
   "outputs": [],
   "source": [
    "import pandas as pd\n",
    "\n",
    "df = pd.DataFrame(list(conn.find()))"
   ]
  },
  {
   "cell_type": "code",
   "execution_count": 3,
   "metadata": {
    "collapsed": false
   },
   "outputs": [
    {
     "data": {
      "text/plain": [
       "12901      ALHOT\n",
       "12902       HBCP\n",
       "12903       HOMB\n",
       "12904      HMCBF\n",
       "12905       HFBL\n",
       "12906    HINVEUR\n",
       "12907        HEP\n",
       "12908        HFC\n",
       "12909      HOMEB\n",
       "12910       HMST\n",
       "12911      HNHPF\n",
       "12912       HOFT\n",
       "12913      HZNOF\n",
       "12914       HZNP\n",
       "12915        HON\n",
       "12916       HRZN\n",
       "12917       ZINC\n",
       "12918      BLGTY\n",
       "12919        HSP\n",
       "12920        HST\n",
       "12921         HI\n",
       "12922       IMMR\n",
       "12923        13N\n",
       "12924      HSLLF\n",
       "12925       HMHC\n",
       "12926      HLKMF\n",
       "12927       HWCC\n",
       "12928       HBMD\n",
       "12929        4H1\n",
       "12930        HRL\n",
       "          ...   \n",
       "20528        LTA\n",
       "20529      MLCLP\n",
       "20530        MND\n",
       "20531      MLMNR\n",
       "20532      ALMNG\n",
       "20533       MOBB\n",
       "20534      MLMON\n",
       "20535       MONT\n",
       "20536      ALMOU\n",
       "20537       MOUR\n",
       "20538        MTY\n",
       "20539      ALTLX\n",
       "20540       GREV\n",
       "20541      NEDAP\n",
       "20542        NRX\n",
       "20543      MLNEO\n",
       "20544      MLNLF\n",
       "20545      ALNEV\n",
       "20546       NERG\n",
       "20547      ALNBT\n",
       "20548        NRO\n",
       "20549      ALALO\n",
       "20550      NEWAY\n",
       "20551      MLNEI\n",
       "20552        NXI\n",
       "20553      ALNXT\n",
       "20554       NXTV\n",
       "20555      MLNMA\n",
       "20556        COX\n",
       "20557        APR\n",
       "Name: Ticker, dtype: object"
      ]
     },
     "execution_count": 3,
     "metadata": {},
     "output_type": "execute_result"
    }
   ],
   "source": [
    "ticker_list['Ticker'][12901:20558]"
   ]
  },
  {
   "cell_type": "code",
   "execution_count": 4,
   "metadata": {
    "collapsed": false
   },
   "outputs": [
    {
     "name": "stdout",
     "output_type": "stream",
     "text": [
      "APR\n"
     ]
    }
   ],
   "source": [
    "from selenium import webdriver\n",
    "from selenium.webdriver.common.keys import Keys\n",
    "import time\n",
    "from IPython.display import clear_output\n",
    "\n",
    "a = 0\n",
    "conn = mongo_connection(MONGO_HOST,MONGO_PORT,MONGO_DB,MONGO_COLLECTION )\n",
    "for i in ticker_list['Ticker'][12901:20558].index:\n",
    "    try:\n",
    "        a += 1\n",
    "        if a == 1:\n",
    "            driver = webdriver.Firefox()\n",
    "        clear_output()\n",
    "        print ticker_list['Ticker'][i]\n",
    "        my_link = \"https://stocktwits.com/symbol/%s\" %ticker_list['Ticker'][i]\n",
    "        driver.get(my_link)\n",
    "        if driver.current_url != 'https://stocktwits.com/':\n",
    "            for j in range(10):\n",
    "                driver.execute_script(\"window.scrollTo(0, document.body.scrollHeight);\")\n",
    "                time.sleep(4)\n",
    "\n",
    "            name = driver.find_elements_by_xpath(\"//a[@class[starts-with(., 'username')]]\")\n",
    "\n",
    "            def get_href_from_web_element(x):\n",
    "                a = x.get_attribute('href')\n",
    "                return a\n",
    "\n",
    "            name_href = list(map(get_href_from_web_element, name))\n",
    "            name_href_final = list(set(name_href))\n",
    "            mongo_logging(conn, {'user_href': name_href_final, 'ticker': ticker_list['Ticker'][i]})\n",
    "        if a == 300:\n",
    "            driver.quit()\n",
    "            a = 0\n",
    "    except:\n",
    "        continue\n"
   ]
  },
  {
   "cell_type": "code",
   "execution_count": null,
   "metadata": {
    "collapsed": false
   },
   "outputs": [],
   "source": [
    "s = list(set(name_href))"
   ]
  },
  {
   "cell_type": "code",
   "execution_count": 8,
   "metadata": {
    "collapsed": false
   },
   "outputs": [
    {
     "name": "stdout",
     "output_type": "stream",
     "text": [
      "  user_link\n",
      "0         a\n",
      "1         2\n"
     ]
    }
   ],
   "source": [
    "s = ['a', '2']\n",
    "a = pd.DataFrame.from_records(s, columns=['user_link'])\n",
    "print a"
   ]
  },
  {
   "cell_type": "code",
   "execution_count": 25,
   "metadata": {
    "collapsed": false
   },
   "outputs": [
    {
     "name": "stdout",
     "output_type": "stream",
     "text": [
      "SHTF\n",
      "SHTF\n",
      "SHTF\n",
      "SHTF\n",
      "SHTF\n",
      "SHTF\n",
      "SHTF\n",
      "SHTF\n"
     ]
    }
   ],
   "source": [
    "for i in conn.find():\n",
    "    print i['ticker']"
   ]
  },
  {
   "cell_type": "code",
   "execution_count": 29,
   "metadata": {
    "collapsed": false
   },
   "outputs": [],
   "source": [
    "a = mongo_connection(MONGO_HOST,MONGO_PORT,MONGO_DB,MONGO_COLLECTION )"
   ]
  },
  {
   "cell_type": "code",
   "execution_count": 23,
   "metadata": {
    "collapsed": false
   },
   "outputs": [],
   "source": [
    "for i in range(50):\n",
    "    mongo_logging(a, {'a':i})"
   ]
  },
  {
   "cell_type": "code",
   "execution_count": 25,
   "metadata": {
    "collapsed": false
   },
   "outputs": [
    {
     "data": {
      "text/plain": [
       "pymongo.cursor.Cursor"
      ]
     },
     "execution_count": 25,
     "metadata": {},
     "output_type": "execute_result"
    }
   ],
   "source": [
    "type(a.find())"
   ]
  },
  {
   "cell_type": "code",
   "execution_count": 36,
   "metadata": {
    "collapsed": false
   },
   "outputs": [],
   "source": [
    "db = pymongo.database.Database(a, 'test_DB')"
   ]
  },
  {
   "cell_type": "code",
   "execution_count": 18,
   "metadata": {
    "collapsed": false
   },
   "outputs": [],
   "source": [
    "b = MongoClient('localhost', 27017)"
   ]
  },
  {
   "cell_type": "code",
   "execution_count": 19,
   "metadata": {
    "collapsed": false
   },
   "outputs": [
    {
     "data": {
      "text/plain": [
       "[u'PRO596', u'admin', u'local']"
      ]
     },
     "execution_count": 19,
     "metadata": {},
     "output_type": "execute_result"
    }
   ],
   "source": [
    "b.database_names()"
   ]
  },
  {
   "cell_type": "code",
   "execution_count": 31,
   "metadata": {
    "collapsed": false
   },
   "outputs": [
    {
     "data": {
      "text/plain": [
       "{u'nIndexesWas': 1, u'ns': u'PRO596.result', u'ok': 1.0}"
      ]
     },
     "execution_count": 31,
     "metadata": {},
     "output_type": "execute_result"
    }
   ],
   "source": [
    "b['PRO596'].drop_collection('result')"
   ]
  },
  {
   "cell_type": "code",
   "execution_count": 52,
   "metadata": {
    "collapsed": false
   },
   "outputs": [
    {
     "data": {
      "text/plain": [
       "[u'posts']"
      ]
     },
     "execution_count": 52,
     "metadata": {},
     "output_type": "execute_result"
    }
   ],
   "source": [
    "b['pymongo_test'].collection_names()"
   ]
  },
  {
   "cell_type": "code",
   "execution_count": 55,
   "metadata": {
    "collapsed": false
   },
   "outputs": [],
   "source": [
    "for i in b['pymongo_test']['posts'].find():\n",
    "    print i"
   ]
  }
 ],
 "metadata": {
  "kernelspec": {
   "display_name": "Python 2",
   "language": "python",
   "name": "python2"
  },
  "language_info": {
   "codemirror_mode": {
    "name": "ipython",
    "version": 2
   },
   "file_extension": ".py",
   "mimetype": "text/x-python",
   "name": "python",
   "nbconvert_exporter": "python",
   "pygments_lexer": "ipython2",
   "version": "2.7.13"
  }
 },
 "nbformat": 4,
 "nbformat_minor": 2
}
