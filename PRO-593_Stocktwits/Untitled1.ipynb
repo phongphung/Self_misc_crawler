{
 "cells": [
  {
   "cell_type": "code",
   "execution_count": 1,
   "metadata": {
    "collapsed": true
   },
   "outputs": [],
   "source": [
    "import pandas as pd\n",
    "user_list = pd.read_csv(\"./user_extracted\", encoding='utf-8', sep=',')"
   ]
  },
  {
   "cell_type": "code",
   "execution_count": 2,
   "metadata": {
    "collapsed": true
   },
   "outputs": [],
   "source": [
    "user_list = user_list.drop_duplicates('user_link')\n",
    "\n",
    "user_list['user_name'] = ''\n",
    "user_list['screen_name'] = ''\n",
    "user_list['joined'] = ''\n",
    "user_list['description'] = ''\n",
    "user_list['tag_1'] = ''\n",
    "user_list['tag_2'] = ''\n",
    "user_list['tag_3'] = ''\n",
    "user_list['tag_4'] = ''\n",
    "user_list['user_expanded_url'] = ''\n",
    "user_list['posts_count'] = ''\n",
    "user_list['followers'] = ''\n",
    "user_list['following'] = ''\n",
    "user_list['watchlist_count'] = ''\n",
    "user_list['old_index'] = user_list.index\n",
    "user_list = user_list.reset_index(drop=True)"
   ]
  },
  {
   "cell_type": "code",
   "execution_count": 3,
   "metadata": {
    "collapsed": true
   },
   "outputs": [],
   "source": [
    "user_list.to_csv(\"test.csv\", index=\"True\", encoding='utf-8')"
   ]
  }
 ],
 "metadata": {
  "kernelspec": {
   "display_name": "Python 2",
   "language": "python",
   "name": "python2"
  },
  "language_info": {
   "codemirror_mode": {
    "name": "ipython",
    "version": 2
   },
   "file_extension": ".py",
   "mimetype": "text/x-python",
   "name": "python",
   "nbconvert_exporter": "python",
   "pygments_lexer": "ipython2",
   "version": "2.7.13"
  }
 },
 "nbformat": 4,
 "nbformat_minor": 2
}
