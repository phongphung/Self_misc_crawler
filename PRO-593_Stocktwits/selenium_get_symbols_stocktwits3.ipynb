{
 "cells": [
  {
   "cell_type": "code",
   "execution_count": 2,
   "metadata": {
    "collapsed": true
   },
   "outputs": [],
   "source": [
    "import pandas as pd\n",
    "#ticker list\n",
    "ticker_list = pd.read_csv(\"./Ticker_export.csv\", encoding = 'utf-8', sep = ',')"
   ]
  },
  {
   "cell_type": "code",
   "execution_count": 4,
   "metadata": {
    "collapsed": true
   },
   "outputs": [],
   "source": [
    "from pymongo import MongoClient\n",
    "import pymongo\n",
    "MONGO_HOST = 'localhost'\n",
    "MONGO_PORT = 27017\n",
    "MONGO_DB = 'PRO596'\n",
    "MONGO_COLLECTION = 'result'\n",
    "\n",
    "def mongo_connection(host, port, db, collection):\n",
    "    try:\n",
    "        conn = MongoClient(host, port)\n",
    "        return conn[db][collection]\n",
    "    except:\n",
    "        raise\n",
    "\n",
    "def mongo_logging(connection, content):\n",
    "    try:\n",
    "        connection.insert_one(content)\n",
    "    except:\n",
    "        raise\n",
    "\n",
    "conn = mongo_connection(MONGO_HOST,MONGO_PORT,MONGO_DB,MONGO_COLLECTION )"
   ]
  },
  {
   "cell_type": "code",
   "execution_count": 4,
   "metadata": {
    "collapsed": false,
    "scrolled": false
   },
   "outputs": [],
   "source": [
    "import pandas as pd\n",
    "\n",
    "df = pd.DataFrame(list(conn.find()))"
   ]
  },
  {
   "cell_type": "code",
   "execution_count": 5,
   "metadata": {
    "collapsed": false
   },
   "outputs": [
    {
     "data": {
      "text/plain": [
       "20558      GND\n",
       "20559    ALNOV\n",
       "20560    MLLED\n",
       "20561    MLQUD\n",
       "20562    MLNOV\n",
       "20563     NSGP\n",
       "20564    ALNSE\n",
       "20565      NSI\n",
       "20566     DICO\n",
       "20567    ALODI\n",
       "20568    ALOBR\n",
       "20569      OCI\n",
       "20570    ALOCT\n",
       "20571    MLOLM\n",
       "20572    ALONC\n",
       "20573    MLONL\n",
       "20574    ONTEX\n",
       "20575    MLOPT\n",
       "20576    ORANW\n",
       "20577     ORAP\n",
       "20578     KAZI\n",
       "20579     ORDI\n",
       "20580    OREGE\n",
       "20581    MLPAC\n",
       "20582     PARD\n",
       "20583     MOPF\n",
       "20584    PARRO\n",
       "20585      PAT\n",
       "20586    MLPIV\n",
       "20587    SEFER\n",
       "         ...  \n",
       "28185    RTMNF\n",
       "28186    RTMAF\n",
       "28187     RYUN\n",
       "28188    SNKOF\n",
       "28189    SLMAF\n",
       "28190      SLA\n",
       "28191    SARSF\n",
       "28192    SAEUF\n",
       "28193    SNPOF\n",
       "28194    SBMSY\n",
       "28195    SBMSF\n",
       "28196    VGGOF\n",
       "28197    SUVRF\n",
       "28198    TIAMY\n",
       "28199     FESH\n",
       "28200    TKCOF\n",
       "28201    TKRKF\n",
       "28202    TRXPF\n",
       "28203    UGPA3\n",
       "28204     UPSN\n",
       "28205    WACMF\n",
       "28206    SCTRY\n",
       "28207    YDWAF\n",
       "28208    YTLTF\n",
       "28209      B32\n",
       "28210    EMP B\n",
       "28211    ATD.B\n",
       "28212     AMSG\n",
       "28213      BUB\n",
       "28214     GNCA\n",
       "Name: Ticker, dtype: object"
      ]
     },
     "execution_count": 5,
     "metadata": {},
     "output_type": "execute_result"
    }
   ],
   "source": [
    "ticker_list['Ticker'][20558:]"
   ]
  },
  {
   "cell_type": "code",
   "execution_count": 6,
   "metadata": {
    "collapsed": false
   },
   "outputs": [
    {
     "name": "stdout",
     "output_type": "stream",
     "text": [
      "GNCA\n"
     ]
    }
   ],
   "source": [
    "from selenium import webdriver\n",
    "from selenium.webdriver.common.keys import Keys\n",
    "import time\n",
    "from IPython.display import clear_output\n",
    "\n",
    "a = 0\n",
    "conn = mongo_connection(MONGO_HOST,MONGO_PORT,MONGO_DB,MONGO_COLLECTION )\n",
    "for i in ticker_list['Ticker'][20558:].index:\n",
    "    try:\n",
    "        a += 1\n",
    "        if a == 1:\n",
    "            driver = webdriver.Firefox()\n",
    "        clear_output()\n",
    "        print ticker_list['Ticker'][i]\n",
    "        my_link = \"https://stocktwits.com/symbol/%s\" %ticker_list['Ticker'][i]\n",
    "        driver.get(my_link)\n",
    "        if driver.current_url != 'https://stocktwits.com/':\n",
    "            for j in range(10):\n",
    "                driver.execute_script(\"window.scrollTo(0, document.body.scrollHeight);\")\n",
    "                time.sleep(4)\n",
    "\n",
    "            name = driver.find_elements_by_xpath(\"//a[@class[starts-with(., 'username')]]\")\n",
    "\n",
    "            def get_href_from_web_element(x):\n",
    "                a = x.get_attribute('href')\n",
    "                return a\n",
    "\n",
    "            name_href = list(map(get_href_from_web_element, name))\n",
    "            name_href_final = list(set(name_href))\n",
    "            mongo_logging(conn, {'user_href': name_href_final, 'ticker': ticker_list['Ticker'][i]})\n",
    "        if a == 300:\n",
    "            driver.quit()\n",
    "            a = 0\n",
    "    except:\n",
    "        continue\n"
   ]
  },
  {
   "cell_type": "code",
   "execution_count": null,
   "metadata": {
    "collapsed": false
   },
   "outputs": [],
   "source": [
    "s = list(set(name_href))"
   ]
  },
  {
   "cell_type": "code",
   "execution_count": 8,
   "metadata": {
    "collapsed": false
   },
   "outputs": [
    {
     "name": "stdout",
     "output_type": "stream",
     "text": [
      "  user_link\n",
      "0         a\n",
      "1         2\n"
     ]
    }
   ],
   "source": [
    "s = ['a', '2']\n",
    "a = pd.DataFrame.from_records(s, columns=['user_link'])\n",
    "print a"
   ]
  },
  {
   "cell_type": "code",
   "execution_count": 25,
   "metadata": {
    "collapsed": false
   },
   "outputs": [
    {
     "name": "stdout",
     "output_type": "stream",
     "text": [
      "SHTF\n",
      "SHTF\n",
      "SHTF\n",
      "SHTF\n",
      "SHTF\n",
      "SHTF\n",
      "SHTF\n",
      "SHTF\n"
     ]
    }
   ],
   "source": [
    "for i in conn.find():\n",
    "    print i['ticker']"
   ]
  },
  {
   "cell_type": "code",
   "execution_count": 29,
   "metadata": {
    "collapsed": false
   },
   "outputs": [],
   "source": [
    "a = mongo_connection(MONGO_HOST,MONGO_PORT,MONGO_DB,MONGO_COLLECTION )"
   ]
  },
  {
   "cell_type": "code",
   "execution_count": 23,
   "metadata": {
    "collapsed": false
   },
   "outputs": [],
   "source": [
    "for i in range(50):\n",
    "    mongo_logging(a, {'a':i})"
   ]
  },
  {
   "cell_type": "code",
   "execution_count": 25,
   "metadata": {
    "collapsed": false
   },
   "outputs": [
    {
     "data": {
      "text/plain": [
       "pymongo.cursor.Cursor"
      ]
     },
     "execution_count": 25,
     "metadata": {},
     "output_type": "execute_result"
    }
   ],
   "source": [
    "type(a.find())"
   ]
  },
  {
   "cell_type": "code",
   "execution_count": 36,
   "metadata": {
    "collapsed": false
   },
   "outputs": [],
   "source": [
    "db = pymongo.database.Database(a, 'test_DB')"
   ]
  },
  {
   "cell_type": "code",
   "execution_count": 18,
   "metadata": {
    "collapsed": false
   },
   "outputs": [],
   "source": [
    "b = MongoClient('localhost', 27017)"
   ]
  },
  {
   "cell_type": "code",
   "execution_count": 19,
   "metadata": {
    "collapsed": false
   },
   "outputs": [
    {
     "data": {
      "text/plain": [
       "[u'PRO596', u'admin', u'local']"
      ]
     },
     "execution_count": 19,
     "metadata": {},
     "output_type": "execute_result"
    }
   ],
   "source": [
    "b.database_names()"
   ]
  },
  {
   "cell_type": "code",
   "execution_count": 31,
   "metadata": {
    "collapsed": false
   },
   "outputs": [
    {
     "data": {
      "text/plain": [
       "{u'nIndexesWas': 1, u'ns': u'PRO596.result', u'ok': 1.0}"
      ]
     },
     "execution_count": 31,
     "metadata": {},
     "output_type": "execute_result"
    }
   ],
   "source": [
    "b['PRO596'].drop_collection('result')"
   ]
  },
  {
   "cell_type": "code",
   "execution_count": 52,
   "metadata": {
    "collapsed": false
   },
   "outputs": [
    {
     "data": {
      "text/plain": [
       "[u'posts']"
      ]
     },
     "execution_count": 52,
     "metadata": {},
     "output_type": "execute_result"
    }
   ],
   "source": [
    "b['pymongo_test'].collection_names()"
   ]
  },
  {
   "cell_type": "code",
   "execution_count": 55,
   "metadata": {
    "collapsed": false
   },
   "outputs": [],
   "source": [
    "for i in b['pymongo_test']['posts'].find():\n",
    "    print i"
   ]
  }
 ],
 "metadata": {
  "kernelspec": {
   "display_name": "Python 2",
   "language": "python",
   "name": "python2"
  },
  "language_info": {
   "codemirror_mode": {
    "name": "ipython",
    "version": 2
   },
   "file_extension": ".py",
   "mimetype": "text/x-python",
   "name": "python",
   "nbconvert_exporter": "python",
   "pygments_lexer": "ipython2",
   "version": "2.7.13"
  }
 },
 "nbformat": 4,
 "nbformat_minor": 2
}
