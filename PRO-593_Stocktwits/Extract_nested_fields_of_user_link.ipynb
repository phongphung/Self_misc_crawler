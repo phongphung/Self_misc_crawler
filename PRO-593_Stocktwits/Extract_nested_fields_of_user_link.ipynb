{
 "cells": [
  {
   "cell_type": "code",
   "execution_count": 1,
   "metadata": {
    "collapsed": true
   },
   "outputs": [],
   "source": [
    "from pymongo import MongoClient\n",
    "import pymongo\n",
    "MONGO_HOST = 'localhost'\n",
    "MONGO_PORT = 27017\n",
    "MONGO_DB = 'PRO596'\n",
    "MONGO_COLLECTION = 'result'\n",
    "\n",
    "def mongo_connection(host, port, db, collection):\n",
    "    try:\n",
    "        conn = MongoClient(host, port)\n",
    "        return conn[db][collection]\n",
    "    except:\n",
    "        raise\n",
    "\n",
    "def mongo_logging(connection, content):\n",
    "    try:\n",
    "        connection.insert_one(content)\n",
    "    except:\n",
    "        raise\n",
    "\n",
    "conn = mongo_connection(MONGO_HOST,MONGO_PORT,MONGO_DB,MONGO_COLLECTION )"
   ]
  },
  {
   "cell_type": "code",
   "execution_count": 2,
   "metadata": {
    "collapsed": true
   },
   "outputs": [],
   "source": [
    "import pandas as pd\n",
    "\n",
    "df = pd.DataFrame(list(conn.find()))\n",
    "\n",
    "final = pd.DataFrame()\n",
    "final['ticker'] = ''\n",
    "final['user_link'] = ''"
   ]
  },
  {
   "cell_type": "code",
   "execution_count": 39,
   "metadata": {
    "collapsed": false
   },
   "outputs": [],
   "source": [
    "for i in df.index:\n",
    "    for j in range(len(df['user_href'][i])):\n",
    "        df2 = pd.DataFrame([[df['ticker'][i], df['user_href'][i][j]]], columns = ['ticker', 'user_link'])\n",
    "        final = final.append(df2, ignore_index=True)"
   ]
  },
  {
   "cell_type": "code",
   "execution_count": 41,
   "metadata": {
    "collapsed": false
   },
   "outputs": [],
   "source": [
    "final.to_csv('user_extracted', index=False, encoding='utf-8')"
   ]
  }
 ],
 "metadata": {
  "kernelspec": {
   "display_name": "Python 2",
   "language": "python",
   "name": "python2"
  },
  "language_info": {
   "codemirror_mode": {
    "name": "ipython",
    "version": 2
   },
   "file_extension": ".py",
   "mimetype": "text/x-python",
   "name": "python",
   "nbconvert_exporter": "python",
   "pygments_lexer": "ipython2",
   "version": "2.7.13"
  }
 },
 "nbformat": 4,
 "nbformat_minor": 2
}
